{
  "nbformat": 4,
  "nbformat_minor": 0,
  "metadata": {
    "colab": {
      "name": "Untitled2.ipynb",
      "provenance": [],
      "collapsed_sections": [],
      "toc_visible": true,
      "authorship_tag": "ABX9TyPwavS/pueF03NqXY3u/Xuh",
      "include_colab_link": true
    },
    "kernelspec": {
      "name": "python3",
      "display_name": "Python 3"
    },
    "language_info": {
      "name": "python"
    }
  },
  "cells": [
    {
      "cell_type": "markdown",
      "metadata": {
        "id": "view-in-github",
        "colab_type": "text"
      },
      "source": [
        "<a href=\"https://colab.research.google.com/github/jasperfoo/c/blob/main/Untitled2.ipynb\" target=\"_parent\"><img src=\"https://colab.research.google.com/assets/colab-badge.svg\" alt=\"Open In Colab\"/></a>"
      ]
    },
    {
      "cell_type": "code",
      "metadata": {
        "colab": {
          "base_uri": "https://localhost:8080/"
        },
        "id": "zCWPTu11M_xr",
        "outputId": "8237367b-4cb4-4edc-80ef-91fd3619e790"
      },
      "source": [
        "import pandas\n",
        "import numpy\n",
        "\n",
        "#import file\n",
        "df = pandas.read_csv('topglov.csv')\n",
        "\n",
        "#dropping columns\n",
        "df.drop(columns=['<per>', '<o/i>'], inplace=True)\n",
        "\n",
        "#renaming columns\n",
        "df.columns = ['ticker', 'name', 'date', 'open', 'high', 'low', 'close', 'vol']\n",
        "\n",
        "#changing datatype???\n",
        "df['ticker'] = df['ticker'].astype('category')\n",
        "df['name'] = df['name'].astype('category')\n",
        "\n",
        "#change date format\n",
        "df['date'] = pandas.to_datetime(df['date'], format='%Y%m%d')\n",
        "\n",
        "# Simple Moving Average\\n\",\n",
        "df['SMA20'] = df['close'].rolling(20).mean()\n",
        "df['SMA50'] = df['close'].rolling(50).mean()\n",
        "df['SMA100'] = df['close'].rolling(100).mean()\n",
        "\n",
        "\n",
        "\n",
        "print(df)\n",
        "print(df.info(verbose=True))\n",
        "\n",
        "\n"
      ],
      "execution_count": 9,
      "outputs": [
        {
          "output_type": "stream",
          "text": [
            "     ticker     name       date    open  ...        vol   SMA20   SMA50  SMA100\n",
            "0      7113  TOPGLOV 2001-03-27  0.0172  ...  339014887     NaN     NaN     NaN\n",
            "1      7113  TOPGLOV 2001-03-28  0.0148  ...   66417318     NaN     NaN     NaN\n",
            "2      7113  TOPGLOV 2001-03-29  0.0145  ...   36718753     NaN     NaN     NaN\n",
            "3      7113  TOPGLOV 2001-03-30  0.0137  ...   38817797     NaN     NaN     NaN\n",
            "4      7113  TOPGLOV 2001-04-02  0.0123  ...   59767123     NaN     NaN     NaN\n",
            "...     ...      ...        ...     ...  ...        ...     ...     ...     ...\n",
            "4916   7113  TOPGLOV 2021-03-16  5.2300  ...   18431900  5.3485  5.9126  6.6424\n",
            "4917   7113  TOPGLOV 2021-03-17  5.2600  ...   27310800  5.3080  5.8978  6.6014\n",
            "4918   7113  TOPGLOV 2021-03-18  5.3800  ...   20432600  5.2675  5.8930  6.5652\n",
            "4919   7113  TOPGLOV 2021-03-19  5.3200  ...   30079800  5.2355  5.8868  6.5303\n",
            "4920   7113  TOPGLOV 2021-03-22  5.3900  ...   37969000  5.2165  5.8796  6.4973\n",
            "\n",
            "[4921 rows x 11 columns]\n",
            "<class 'pandas.core.frame.DataFrame'>\n",
            "RangeIndex: 4921 entries, 0 to 4920\n",
            "Data columns (total 11 columns):\n",
            " #   Column  Non-Null Count  Dtype         \n",
            "---  ------  --------------  -----         \n",
            " 0   ticker  4921 non-null   category      \n",
            " 1   name    4921 non-null   category      \n",
            " 2   date    4921 non-null   datetime64[ns]\n",
            " 3   open    4921 non-null   float64       \n",
            " 4   high    4921 non-null   float64       \n",
            " 5   low     4921 non-null   float64       \n",
            " 6   close   4921 non-null   float64       \n",
            " 7   vol     4921 non-null   int64         \n",
            " 8   SMA20   4902 non-null   float64       \n",
            " 9   SMA50   4872 non-null   float64       \n",
            " 10  SMA100  4822 non-null   float64       \n",
            "dtypes: category(2), datetime64[ns](1), float64(7), int64(1)\n",
            "memory usage: 355.9 KB\n",
            "None\n"
          ],
          "name": "stdout"
        }
      ]
    },
    {
      "cell_type": "markdown",
      "metadata": {
        "id": "no7-BCh2ORCm"
      },
      "source": [
        ""
      ]
    },
    {
      "cell_type": "code",
      "metadata": {
        "id": "enNT6ErrOSP4"
      },
      "source": [
        ""
      ],
      "execution_count": null,
      "outputs": []
    },
    {
      "cell_type": "markdown",
      "metadata": {
        "id": "vX_R69NHOpxx"
      },
      "source": [
        "# New Section"
      ]
    }
  ]
}